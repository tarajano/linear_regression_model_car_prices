{
 "cells": [
  {
   "cell_type": "code",
   "execution_count": 182,
   "metadata": {},
   "outputs": [],
   "source": [
    "import pandas as pd\n",
    "import numpy as np\n",
    "import matplotlib.pyplot as plt\n",
    "from sklearn.linear_model import LinearRegression\n",
    "from statsmodels.stats.outliers_influence import variance_inflation_factor\n"
   ]
  },
  {
   "cell_type": "code",
   "execution_count": 88,
   "metadata": {},
   "outputs": [
    {
     "data": {
      "text/html": [
       "<div>\n",
       "<style scoped>\n",
       "    .dataframe tbody tr th:only-of-type {\n",
       "        vertical-align: middle;\n",
       "    }\n",
       "\n",
       "    .dataframe tbody tr th {\n",
       "        vertical-align: top;\n",
       "    }\n",
       "\n",
       "    .dataframe thead th {\n",
       "        text-align: right;\n",
       "    }\n",
       "</style>\n",
       "<table border=\"1\" class=\"dataframe\">\n",
       "  <thead>\n",
       "    <tr style=\"text-align: right;\">\n",
       "      <th></th>\n",
       "      <th>car_model</th>\n",
       "      <th>mileage</th>\n",
       "      <th>sell_price</th>\n",
       "      <th>age_yrs</th>\n",
       "    </tr>\n",
       "  </thead>\n",
       "  <tbody>\n",
       "    <tr>\n",
       "      <th>0</th>\n",
       "      <td>BMW_X5</td>\n",
       "      <td>69000</td>\n",
       "      <td>18000</td>\n",
       "      <td>6</td>\n",
       "    </tr>\n",
       "    <tr>\n",
       "      <th>1</th>\n",
       "      <td>BMW_X5</td>\n",
       "      <td>35000</td>\n",
       "      <td>34000</td>\n",
       "      <td>3</td>\n",
       "    </tr>\n",
       "    <tr>\n",
       "      <th>2</th>\n",
       "      <td>BMW_X5</td>\n",
       "      <td>57000</td>\n",
       "      <td>26100</td>\n",
       "      <td>5</td>\n",
       "    </tr>\n",
       "    <tr>\n",
       "      <th>3</th>\n",
       "      <td>BMW_X5</td>\n",
       "      <td>22500</td>\n",
       "      <td>40000</td>\n",
       "      <td>2</td>\n",
       "    </tr>\n",
       "    <tr>\n",
       "      <th>4</th>\n",
       "      <td>BMW_X5</td>\n",
       "      <td>46000</td>\n",
       "      <td>31500</td>\n",
       "      <td>4</td>\n",
       "    </tr>\n",
       "    <tr>\n",
       "      <th>5</th>\n",
       "      <td>Audi_A5</td>\n",
       "      <td>59000</td>\n",
       "      <td>29400</td>\n",
       "      <td>5</td>\n",
       "    </tr>\n",
       "    <tr>\n",
       "      <th>6</th>\n",
       "      <td>Audi_A5</td>\n",
       "      <td>52000</td>\n",
       "      <td>32000</td>\n",
       "      <td>5</td>\n",
       "    </tr>\n",
       "    <tr>\n",
       "      <th>7</th>\n",
       "      <td>Audi_A5</td>\n",
       "      <td>72000</td>\n",
       "      <td>19300</td>\n",
       "      <td>6</td>\n",
       "    </tr>\n",
       "    <tr>\n",
       "      <th>8</th>\n",
       "      <td>Audi_A5</td>\n",
       "      <td>91000</td>\n",
       "      <td>12000</td>\n",
       "      <td>8</td>\n",
       "    </tr>\n",
       "    <tr>\n",
       "      <th>9</th>\n",
       "      <td>Mercedez_Benz_C_class</td>\n",
       "      <td>67000</td>\n",
       "      <td>22000</td>\n",
       "      <td>6</td>\n",
       "    </tr>\n",
       "    <tr>\n",
       "      <th>10</th>\n",
       "      <td>Mercedez_Benz_C_class</td>\n",
       "      <td>83000</td>\n",
       "      <td>20000</td>\n",
       "      <td>7</td>\n",
       "    </tr>\n",
       "    <tr>\n",
       "      <th>11</th>\n",
       "      <td>Mercedez_Benz_C_class</td>\n",
       "      <td>79000</td>\n",
       "      <td>21000</td>\n",
       "      <td>7</td>\n",
       "    </tr>\n",
       "    <tr>\n",
       "      <th>12</th>\n",
       "      <td>Mercedez_Benz_C_class</td>\n",
       "      <td>59000</td>\n",
       "      <td>33000</td>\n",
       "      <td>5</td>\n",
       "    </tr>\n",
       "  </tbody>\n",
       "</table>\n",
       "</div>"
      ],
      "text/plain": [
       "                car_model  mileage  sell_price  age_yrs\n",
       "0                  BMW_X5    69000       18000        6\n",
       "1                  BMW_X5    35000       34000        3\n",
       "2                  BMW_X5    57000       26100        5\n",
       "3                  BMW_X5    22500       40000        2\n",
       "4                  BMW_X5    46000       31500        4\n",
       "5                 Audi_A5    59000       29400        5\n",
       "6                 Audi_A5    52000       32000        5\n",
       "7                 Audi_A5    72000       19300        6\n",
       "8                 Audi_A5    91000       12000        8\n",
       "9   Mercedez_Benz_C_class    67000       22000        6\n",
       "10  Mercedez_Benz_C_class    83000       20000        7\n",
       "11  Mercedez_Benz_C_class    79000       21000        7\n",
       "12  Mercedez_Benz_C_class    59000       33000        5"
      ]
     },
     "execution_count": 88,
     "metadata": {},
     "output_type": "execute_result"
    }
   ],
   "source": [
    "dtf = pd.read_csv('carprices.csv')\n",
    "dtf"
   ]
  },
  {
   "cell_type": "code",
   "execution_count": 130,
   "metadata": {},
   "outputs": [
    {
     "data": {
      "image/png": "[encoded data removed]",
      "text/plain": [
       "<Figure size 432x288 with 1 Axes>"
      ]
     },
     "metadata": {
      "needs_background": "light"
     },
     "output_type": "display_data"
    },
    {
     "data": {
      "image/png": "[encoded data removed]",
      "text/plain": [
       "<Figure size 432x288 with 1 Axes>"
      ]
     },
     "metadata": {
      "needs_background": "light"
     },
     "output_type": "display_data"
    }
   ],
   "source": [
    "plt.scatter(dtf.mileage, dtf.sell_price, color='r')\n",
    "plt.title('mileage vs sell_price')\n",
    "plt.xlabel('mileage')\n",
    "plt.ylabel('sell_price')\n",
    "plt.show()\n",
    "\n",
    "plt.scatter(dtf.age_yrs, dtf.sell_price, color='b')\n",
    "plt.title('age_yrs vs sell_price')\n",
    "plt.xlabel('age_yrs')\n",
    "plt.ylabel('sell_price')\n",
    "plt.show()"
   ]
  },
  {
   "cell_type": "markdown",
   "metadata": {},
   "source": [
    "### Identifying colinearity between independent variables"
   ]
  },
  {
   "cell_type": "code",
   "execution_count": 200,
   "metadata": {},
   "outputs": [
    {
     "data": {
      "image/png": "[encoded data removed]",
      "text/plain": [
       "<Figure size 432x288 with 1 Axes>"
      ]
     },
     "metadata": {
      "needs_background": "light"
     },
     "output_type": "display_data"
    },
    {
     "name": "stdout",
     "output_type": "stream",
     "text": [
      "mileage vs age_yrs R^2 0.9869473989864677\n"
     ]
    }
   ],
   "source": [
    "\"\"\" There is high colinearity between mileage and age_yrs.\n",
    "    We must avoid including both variables in the model. \"\"\" \n",
    "plt.scatter(dtf.mileage, dtf.age_yrs, color='g')\n",
    "plt.title('mileage vs age_yrs')\n",
    "plt.xlabel('mileage')\n",
    "plt.ylabel('age_yrs')\n",
    "plt.show()\n",
    "\n",
    "mil_yrs_lrm = LinearRegression()\n",
    "mil_yrs_lrm.fit(dtf[['mileage']].values, dtf.age_yrs)\n",
    "r2 = mil_yrs_lrm.score(dtf[['mileage']].values, dtf.age_yrs)\n",
    "print('mileage vs age_yrs R^2', r2)"
   ]
  },
  {
   "cell_type": "markdown",
   "metadata": {},
   "source": [
    "### Computing Variance Inflation Factor (VIF)  for collinearity"
   ]
  },
  {
   "cell_type": "code",
   "execution_count": 205,
   "metadata": {},
   "outputs": [
    {
     "name": "stdout",
     "output_type": "stream",
     "text": [
      "     features  vif_factors\n",
      "0     mileage   919.259349\n",
      "1     age_yrs   931.060353\n",
      "2  sell_price     3.507936\n"
     ]
    },
    {
     "data": {
      "text/plain": [
       "' Both mileage and age_yrs have very large VIFs, we must avoid including them at the same time in a the model '"
      ]
     },
     "execution_count": 205,
     "metadata": {},
     "output_type": "execute_result"
    }
   ],
   "source": [
    "\"\"\"\n",
    "Implementation:\n",
    "    https://etav.github.io/python/vif_factor_python.html (code below)\n",
    "\n",
    "Interpretation: \n",
    "    https://www.displayr.com/variance-inflation-factors-vifs/\n",
    "    A value of 1 means that the predictor is not correlated with other variables.\n",
    "    The higher the value, the greater the correlation of the variable with other variables.\n",
    "    Values of more than 4 or 5 are sometimes regarded as being moderate to high, with values\n",
    "    of 10 or more being regarded as very high. These numbers are just rules of thumb ...\n",
    "\"\"\"\n",
    "\n",
    "\"\"\" Computing VIFs \"\"\"\n",
    "vif_dtf = dtf[['mileage', 'age_yrs', 'sell_price']].copy()\n",
    "vif_res_dtf = pd.DataFrame()\n",
    "vif_res_dtf[\"features\"] = vif_dtf.columns\n",
    "vif_res_dtf['vif_factors'] = [variance_inflation_factor(vif_dtf.values, i) for i in range(vif_dtf.shape[1])]\n",
    "print(vif_res_dtf)\n",
    "\n",
    "\"\"\" Both mileage and age_yrs have very large VIFs, we must avoid including them at the same time in a the model \"\"\""
   ]
  },
  {
   "cell_type": "code",
   "execution_count": 207,
   "metadata": {},
   "outputs": [
    {
     "name": "stdout",
     "output_type": "stream",
     "text": [
      "    Audi_A5  BMW_X5  Mercedez_Benz_C_class\n",
      "0         0       1                      0\n",
      "1         0       1                      0\n",
      "2         0       1                      0\n",
      "3         0       1                      0\n",
      "4         0       1                      0\n",
      "5         1       0                      0\n",
      "6         1       0                      0\n",
      "7         1       0                      0\n",
      "8         1       0                      0\n",
      "9         0       0                      1\n",
      "10        0       0                      1\n",
      "11        0       0                      1\n",
      "12        0       0                      1\n",
      "    BMW_X5  Mercedez_Benz_C_class\n",
      "0        1                      0\n",
      "1        1                      0\n",
      "2        1                      0\n",
      "3        1                      0\n",
      "4        1                      0\n",
      "5        0                      0\n",
      "6        0                      0\n",
      "7        0                      0\n",
      "8        0                      0\n",
      "9        0                      1\n",
      "10       0                      1\n",
      "11       0                      1\n",
      "12       0                      1\n"
     ]
    }
   ],
   "source": [
    "\"\"\" Creates dummy variables\"\"\"\n",
    "dummies_dtf = pd.get_dummies(dtf.car_model)\n",
    "print(dummies_dtf)\n",
    "\n",
    "\"\"\" Removes one dummy variable to avoid dummy trap \"\"\"\n",
    "dummies_dtf = dummies_dtf.iloc[:,1:]\n",
    "print(dummies_dtf)"
   ]
  },
  {
   "cell_type": "markdown",
   "metadata": {},
   "source": [
    "### Single Linear Regression: age_yrs vs sell price (w/ dummy vars)"
   ]
  },
  {
   "cell_type": "code",
   "execution_count": 232,
   "metadata": {},
   "outputs": [
    {
     "name": "stdout",
     "output_type": "stream",
     "text": [
      "    BMW_X5  Mercedez_Benz_C_class  age_yrs\n",
      "0        1                      0        6\n",
      "1        1                      0        3\n",
      "2        1                      0        5\n",
      "3        1                      0        2\n",
      "4        1                      0        4\n",
      "5        0                      0        5\n",
      "6        0                      0        5\n",
      "7        0                      0        6\n",
      "8        0                      0        8\n",
      "9        0                      1        6\n",
      "10       0                      1        7\n",
      "11       0                      1        7\n",
      "12       0                      1        5\n"
     ]
    },
    {
     "data": {
      "image/png": "[encoded data removed]",
      "text/plain": [
       "<Figure size 432x288 with 1 Axes>"
      ]
     },
     "metadata": {
      "needs_background": "light"
     },
     "output_type": "display_data"
    },
    {
     "name": "stdout",
     "output_type": "stream",
     "text": [
      "age_yrs vs sell price - R^2: 0.9315851574179888\n"
     ]
    }
   ],
   "source": [
    "\"\"\" Creates dataframe with mileage and dummy variables. \"\"\"\n",
    "X = pd.concat([dummies_dtf, dtf['age_yrs']], axis=1)\n",
    "\n",
    "print(X)\n",
    "\n",
    "\"\"\" Single Linear Regression (plus dummy vars): age_yrs vs sell price.\"\"\" \n",
    "yrs_lrm = LinearRegression()\n",
    "yrs_lrm.fit(X, dtf.sell_price)\n",
    "r2 = yrs_lrm.score(X, dtf.sell_price)\n",
    "\n",
    "\"\"\" Visualization \"\"\"\n",
    "plt.scatter(dtf.age_yrs, dtf.sell_price, color='red')\n",
    "plt.plot(dtf.age_yrs, yrs_lrm.predict(X), color='gray')\n",
    "plt.title('age_yrs vs sell_price')\n",
    "plt.xlabel('age_yrs')\n",
    "plt.ylabel('sell_price')\n",
    "plt.show()\n",
    "\n",
    "print('age_yrs vs sell price - R^2:', r2)\n",
    "\n",
    "# \"\"\" Prediction: Mercedez_Benz_C_class=0,1, mil=59000, yrs=5  -> sell=33000\"\"\"\n",
    "# x = [[0,1,59000,5]]\n",
    "# print(x)\n",
    "# print([yrs_lrm.predict(x)])"
   ]
  },
  {
   "cell_type": "markdown",
   "metadata": {},
   "source": [
    "### Single Linear Regression: mileage vs sell price  (w/ dummy vars)"
   ]
  },
  {
   "cell_type": "code",
   "execution_count": 220,
   "metadata": {},
   "outputs": [
    {
     "data": {
      "image/png": "[encoded data removed]",
      "text/plain": [
       "<Figure size 432x288 with 1 Axes>"
      ]
     },
     "metadata": {
      "needs_background": "light"
     },
     "output_type": "display_data"
    },
    {
     "name": "stdout",
     "output_type": "stream",
     "text": [
      "mileage vs sell price - R^2: 0.8595436655580696\n"
     ]
    }
   ],
   "source": [
    "\"\"\" Creates dataframe with mileage and dummy variables. \"\"\"\n",
    "X = pd.concat([dummies_dtf, dtf['mileage']], axis=1)\n",
    "\n",
    "\"\"\" Single Linear Regression (plus dummy vars): mileage vs sell price.\"\"\" \n",
    "mil_lrm = LinearRegression()\n",
    "mil_lrm.fit(X, dtf.sell_price)\n",
    "r2 = mil_lrm.score(X, dtf.sell_price)\n",
    "\n",
    "\"\"\" Visualization \"\"\"\n",
    "plt.scatter(dtf.mileage, dtf.sell_price, color='blue')\n",
    "plt.plot(dtf.mileage, mil_lrm.predict(dtf[['mileage']].values), color='gray')\n",
    "plt.title('mileage vs sell_price')\n",
    "plt.xlabel('mileage')\n",
    "plt.ylabel('sell_price')\n",
    "plt.show()\n",
    "\n",
    "print('mileage vs sell price - R^2:', r2)"
   ]
  },
  {
   "cell_type": "code",
   "execution_count": 117,
   "metadata": {},
   "outputs": [
    {
     "name": "stdout",
     "output_type": "stream",
     "text": [
      "[array([-4.02506179e+08])]\n"
     ]
    },
    {
     "data": {
      "text/plain": [
       "' Audi_A5=0,0 mil=59000 yrs=5 -> sell=29400'"
      ]
     },
     "execution_count": 117,
     "metadata": {},
     "output_type": "execute_result"
    }
   ],
   "source": [
    "\"\"\" Mercedez_Benz_C_class=0,1, mil=59000, yrs=5  -> sell=33000\"\"\"\n",
    "x = [[0,1,59000,5]]\n",
    "# print([lrm.predict(x)])\n",
    "# sc_X.inverse_transform([lrm.predict(x)])\n",
    "\n",
    "\n",
    "\"\"\" Audi_A5=0,0 mil=59000 yrs=5 -> sell=29400\"\"\"\n",
    "# x = [[0,0,59000,5]]\n",
    "# print(lrm.predict(x)) "
   ]
  },
  {
   "cell_type": "code",
   "execution_count": null,
   "metadata": {},
   "outputs": [],
   "source": []
  }
 ],
 "metadata": {
  "kernelspec": {
   "display_name": "Python 3",
   "language": "python",
   "name": "python3"
  },
  "language_info": {
   "codemirror_mode": {
    "name": "ipython",
    "version": 3
   },
   "file_extension": ".py",
   "mimetype": "text/x-python",
   "name": "python",
   "nbconvert_exporter": "python",
   "pygments_lexer": "ipython3",
   "version": "3.7.1"
  }
 },
 "nbformat": 4,
 "nbformat_minor": 2
}
