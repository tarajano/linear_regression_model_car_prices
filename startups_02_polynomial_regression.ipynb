{
 "cells": [
  {
   "cell_type": "markdown",
   "metadata": {},
   "source": [
    "# Start Ups\n",
    "\n",
    "**Build a polynomial regression model to predict revenue from 50 start ups data**\n",
    "\n",
    "From: https://www.udemy.com/machinelearning"
   ]
  },
  {
   "cell_type": "code",
   "execution_count": 2,
   "metadata": {},
   "outputs": [
    {
     "name": "stdout",
     "output_type": "stream",
     "text": [
      "importing Jupyter notebook from regression_lib.ipynb\n"
     ]
    }
   ],
   "source": [
    "import random\n",
    "import numpy as np\n",
    "import pandas as pd\n",
    "import matplotlib.pyplot as plt\n",
    "\n",
    "import statsmodels.api as sm\n",
    "import statsmodels.formula.api as smf\n",
    "from statsmodels.graphics.gofplots import qqplot\n",
    "from statsmodels.stats.outliers_influence import variance_inflation_factor\n",
    "\n",
    "from sklearn import preprocessing\n",
    "\n",
    "# Imports other notebooks\n",
    "import import_ipynb\n",
    "import regression_lib as rl"
   ]
  },
  {
   "cell_type": "code",
   "execution_count": 2,
   "metadata": {},
   "outputs": [
    {
     "name": "stdout",
     "output_type": "stream",
     "text": [
      "    rd_spend  admin_spend  marketing_spend       state     profit\n",
      "0  165349.20    136897.80        471784.10    New York  192261.83\n",
      "1  162597.70    151377.59        443898.53  California  191792.06\n",
      "2  153441.51    101145.55        407934.54     Florida  191050.39\n",
      "3  144372.41    118671.85        383199.62    New York  182901.99\n",
      "4  142107.34     91391.77        366168.42     Florida  166187.94\n",
      "(50, 5)\n"
     ]
    }
   ],
   "source": [
    "dtf = pd.read_csv('50_Startups.csv')\n",
    "names = {\n",
    "    'R&D Spend': 'rd_spend',\n",
    "    'Administration': 'admin_spend',\n",
    "    'Marketing Spend': 'marketing_spend',\n",
    "    'State': 'state',\n",
    "    'Profit': 'profit'\n",
    "}\n",
    "dtf.rename(columns=names, inplace=True)\n",
    "print(dtf.head())\n",
    "print(dtf.shape)"
   ]
  },
  {
   "cell_type": "code",
   "execution_count": 3,
   "metadata": {},
   "outputs": [
    {
     "data": {
      "text/plain": [
       "['__builtins__',\n",
       " '__doc__',\n",
       " '__file__',\n",
       " '__loader__',\n",
       " '__name__',\n",
       " '__package__',\n",
       " '__spec__',\n",
       " '_compute_multiplot_rows',\n",
       " 'compute_vif',\n",
       " 'get_dummies',\n",
       " 'get_ipython',\n",
       " 'get_rand_rgb_color',\n",
       " 'np',\n",
       " 'pd',\n",
       " 'plt',\n",
       " 'preprocessing',\n",
       " 'qqplot',\n",
       " 'random',\n",
       " 'shapiro_wilks_test',\n",
       " 'show_multi_plots',\n",
       " 'sm',\n",
       " 'smf',\n",
       " 'test_H0',\n",
       " 'variance_inflation_factor']"
      ]
     },
     "execution_count": 3,
     "metadata": {},
     "output_type": "execute_result"
    }
   ],
   "source": [
    "dir(rl)"
   ]
  },
  {
   "cell_type": "code",
   "execution_count": null,
   "metadata": {},
   "outputs": [],
   "source": [
    "''' Functions for generating automatically scatter plots from a dataframe '''\n",
    "\n",
    "def _compute_multiplot_rows(lst):\n",
    "    '''\n",
    "        Computes the rows required to generate a multiplot figure of N rows and 2 columns. \n",
    "        lst: list of independent variable columns names in the dataframe (eg. ['xA', 'xB', 'xN'])\n",
    "    '''\n",
    "    COL_NUMBER = 2\n",
    "    \n",
    "    _lst_len = len(lst)\n",
    "    _division = int(_lst_len/COL_NUMBER)\n",
    "    _reminder = _lst_len%COL_NUMBER\n",
    "    \n",
    "    if _division == 0:\n",
    "        return 1\n",
    "    \n",
    "    if _reminder == 0:\n",
    "        return _division\n",
    "    \n",
    "    if _reminder > 0:\n",
    "        return _division + 1\n",
    "    \n",
    "\n",
    "def get_rand_rgb_color(col_numb):\n",
    "    return [np.random.rand(col_numb)]\n",
    "\n",
    "    \n",
    "def show_multi_plots(dtf, xy_dct, plt_type):\n",
    "    '''\n",
    "    Description\n",
    "    -----------\n",
    "        Generates a figure with multiple scatter plots.\n",
    "\n",
    "    Parameters\n",
    "    ----------\n",
    "        dtf: A dataframe containing the independent and dependent variables.\n",
    "        xy_dct: dictionary with keys x and y, specifying the column names of independent\n",
    "                and dependent variables respectively.\n",
    "            Example: { 'x': ['col_xA','col_xB','col_xC'], 'y': 'col_y'}\n",
    "        plt_type: plot type [scatter | hist]\n",
    "            \n",
    "            \n",
    "    TODO\n",
    "    ----\n",
    "        Fix a function fail/error at instruction \"axs[r, c].scatter\" when passed a list of two colums to plot \n",
    "        from dataframe.\n",
    "    '''\n",
    "    COL_NUMBER = 2\n",
    "\n",
    "    x_idx = 0\n",
    "    calpha = .7\n",
    "    y_name = xy_dct['y']\n",
    "    x_lst_len = len(xy_dct['x'])\n",
    "    rows_number = _compute_multiplot_rows(xy_dct['x'])\n",
    "    \n",
    "    fig, axs = plt.subplots(rows_number, 2, figsize=(12, 12))\n",
    "\n",
    "    for r in range (0, rows_number):\n",
    "        for c in range (0, COL_NUMBER):\n",
    "            if x_idx == x_lst_len: \n",
    "                break\n",
    "            x_name = xy_dct['x'][x_idx]\n",
    "            \n",
    "            if plt_type == 'scatter':\n",
    "                axs[r, c].scatter(dtf[x_name], dtf[y_name], c=get_rand_rgb_color(x_lst_len), alpha=calpha)\n",
    "                axs[r, c].set_ylabel(y_name, fontsize=10)\n",
    "                axs[r, c].set_xlabel(x_name, fontsize=10)\n",
    "                \n",
    "            if plt_type == 'hist':\n",
    "                axs[r, c].hist(dtf[x_name], color=get_rand_rgb_color(x_lst_len), alpha=calpha)\n",
    "            \n",
    "            axs[r, c].set_title(x_name, fontsize=12)\n",
    "            x_idx += 1\n",
    "    \n",
    "    plt.show()"
   ]
  },
  {
   "cell_type": "markdown",
   "metadata": {},
   "source": [
    "### Plot continous independent variables vs dependent"
   ]
  },
  {
   "cell_type": "code",
   "execution_count": null,
   "metadata": {},
   "outputs": [],
   "source": [
    "xy_dct = { 'x': ['rd_spend','admin_spend','marketing_spend'], 'y': 'profit'}\n",
    "show_multi_plots(dtf, xy_dct, 'scatter')\n",
    "\n",
    "print('''rd_spend has a very strong linear relationship to profit, marketing_spend also shows a reasonable correlation, while admin_spend do not seems to have a simple linear relationship to revenue''')"
   ]
  },
  {
   "cell_type": "markdown",
   "metadata": {},
   "source": [
    "### Plot continous variables vs categorical"
   ]
  },
  {
   "cell_type": "code",
   "execution_count": null,
   "metadata": {},
   "outputs": [],
   "source": [
    "# cols = ['rd_spend','admin_spend']\n",
    "feats = ['rd_spend','admin_spend','marketing_spend', 'profit']\n",
    "\n",
    "bxplots = dtf.boxplot(column=feats, by='state', layout=(2,2), figsize=(10,10))"
   ]
  },
  {
   "cell_type": "markdown",
   "metadata": {},
   "source": [
    "### Are continous variables normal?"
   ]
  },
  {
   "cell_type": "code",
   "execution_count": null,
   "metadata": {},
   "outputs": [],
   "source": [
    "feat = ['rd_spend', 'admin_spend', 'marketing_spend', 'profit']\n",
    "\n",
    "for f in feat:\n",
    "    sw_stat, p_value = shapiro_wilks_test(dtf[f])\n",
    "    print('{} sw_stat={:.3f}, p_value={:.3f}'.format(f, sw_stat, p_value))\n",
    "    test_H0(p_value)    "
   ]
  },
  {
   "cell_type": "code",
   "execution_count": null,
   "metadata": {},
   "outputs": [],
   "source": [
    "xy_dct = { 'x': ['rd_spend','admin_spend','marketing_spend', 'profit'], 'y': ''}\n",
    "show_multi_plots(dtf, xy_dct, 'hist')\n",
    "\n",
    "''' Both the dependent and independent variables adhere to normality. A good start for building a linear model '''"
   ]
  },
  {
   "cell_type": "markdown",
   "metadata": {},
   "source": [
    "### Exploring collinearity among continous independent variables. "
   ]
  },
  {
   "cell_type": "code",
   "execution_count": null,
   "metadata": {},
   "outputs": [],
   "source": [
    "vif_dtf = compute_vif(dtf[['rd_spend','admin_spend','marketing_spend']])\n",
    "print(vif_dtf)\n",
    "\n",
    "''' VIF results support what was previously observed in the scatter plots, rd_spend and marketing_spend share collinearity. However we will not remove any of them, since we want to test a step-wise model building'''"
   ]
  },
  {
   "cell_type": "markdown",
   "metadata": {},
   "source": [
    "### Step wise model building with OLS"
   ]
  },
  {
   "cell_type": "code",
   "execution_count": null,
   "metadata": {},
   "outputs": [],
   "source": [
    "significance_level = 0.001 \n",
    "\n",
    "y = 'profit'"
   ]
  },
  {
   "cell_type": "code",
   "execution_count": null,
   "metadata": {},
   "outputs": [],
   "source": [
    "X = ['rd_spend','admin_spend','marketing_spend']\n",
    "\n",
    "model_formula_str = \"{} ~ {}\".format(y, ' + '.join(X))\n",
    "lm1 = smf.ols(formula=model_formula_str, data=dtf)\n",
    "results = lm1.fit()\n",
    "\n",
    "print(\"Model Formula: \", model_formula_str, \"\\n\")\n",
    "print(results.summary())\n",
    "\n",
    "# \"\"\"\n",
    "# Accessing model attributes independently \n",
    "# List of attributes for statsmodels.regression.linear_model.RegressionResults object\n",
    "# https://www.statsmodels.org/stable/generated/statsmodels.regression.linear_model.RegressionResults.html#statsmodels.regression.linear_model.RegressionResults\n",
    "# print(\"R^2:\", results.rsquared, \"\\n\")\n",
    "# print(\"R^2 adj:\", results.rsquared_adj, \"\\n\")\n",
    "\n",
    "# print(\"Linear coefficients:\")\n",
    "# print(results.params, \"\\n\")\n",
    "\n",
    "# print('Standard errors (of Linear coefficients): ')\n",
    "# print(results.bse, \"\\n\")\n",
    "\n",
    "# print('P-values: ')\n",
    "# print(results.pvalues, \"\\n\")\n",
    "\n",
    "# print('Residuals: ')\n",
    "# print(results.resid[0:3], \"... more \\n\")\n",
    "# \"\"\""
   ]
  },
  {
   "cell_type": "code",
   "execution_count": null,
   "metadata": {},
   "outputs": [],
   "source": [
    "''' Finding the attribute with less contrinution to the model '''\n",
    "highest_pvalue = max(results.pvalues)\n",
    "worst_x = results.pvalues[results.pvalues == highest_pvalue]\n",
    "worst_x_name = worst_x.index[0]\n",
    "worst_x_pval = worst_x.values[0]\n",
    "print(worst_x_name, worst_x_pval)"
   ]
  },
  {
   "cell_type": "markdown",
   "metadata": {},
   "source": [
    "## Backward elimination\n",
    "\n",
    "sml.ols Regression Results object:  https://www.statsmodels.org/dev/generated/statsmodels.regression.linear_model.RegressionResults.html#statsmodels.regression.linear_model.RegressionResults"
   ]
  },
  {
   "cell_type": "code",
   "execution_count": null,
   "metadata": {},
   "outputs": [],
   "source": [
    "def backward_elimination(dtf, X_cols, y_col, significance_level):\n",
    "    \n",
    "    round = 0 \n",
    "\n",
    "    while len(X) > 0:\n",
    "    \n",
    "        round += 1\n",
    "        model_formula_str = \"{} ~ {}\".format(y_col, ' + '.join(X_cols))\n",
    "        lm1 = smf.ols(formula=model_formula_str, data=dtf)\n",
    "        results = lm1.fit()\n",
    "        \n",
    "        print(\"\\n\")\n",
    "        print(\"Round\", round)\n",
    "        print(\"Formula: {}\".format(model_formula_str))\n",
    "        print(\"R2: {:.4f}, adj.: {:.4f}\".format(results.rsquared, results.rsquared_adj))\n",
    "        print(\"Fs: {:.4f}, Fpv.: {:.4f}\".format(results.fvalue, results.f_pvalue))\n",
    "        \n",
    "        ''' Finding the attribute with less contrinution to the model '''\n",
    "        highest_pvalue = max(results.pvalues)\n",
    "        \n",
    "        if highest_pvalue >= significance_level:\n",
    "            worst_x = results.pvalues[results.pvalues == highest_pvalue]\n",
    "            worst_x_name = worst_x.index[0]\n",
    "            worst_x_pval = worst_x.values[0]\n",
    "            X_cols.remove(worst_x_name)\n",
    "            print('{} removed from model (Significance pvalue = {:.4f})'.format(worst_x_name, worst_x_pval))\n",
    "        else:\n",
    "            return results\n",
    "    \n",
    "    return None\n",
    "\n",
    "\n",
    "X_cols = ['rd_spend','admin_spend','marketing_spend']\n",
    "y_col = 'profit'\n",
    "\n",
    "significance_level = 0.001 \n",
    "\n",
    "ols_results = backward_elimination(dtf, X_cols, y_col, significance_level)\n",
    "\n",
    "if(ols_results == None):\n",
    "    print('No significant model built.')\n",
    "else:\n",
    "    print(ols_results.summary())"
   ]
  },
  {
   "cell_type": "markdown",
   "metadata": {},
   "source": [
    "### Visualizing the model"
   ]
  },
  {
   "cell_type": "code",
   "execution_count": null,
   "metadata": {},
   "outputs": [],
   "source": [
    "y = dtf['profit']\n",
    "X = dtf['rd_spend']\n",
    "y_pred = ols_results.predict(X)\n",
    "\n",
    "plt.scatter(X, y, color='r', alpha=.3)\n",
    "plt.plot(X, y_pred, color='black', alpha=.6)\n",
    "plt.title('Model plot\\n(red: profit, black: profit_pred)')\n",
    "plt.xlabel('rd_spend')\n",
    "plt.ylabel('profit')\n",
    "plt.show()\n",
    "\n",
    "''' We can eye-ball that for rd_spend < $12K (approx) the model does not work well. We could think of removing those observations from the model'''"
   ]
  },
  {
   "cell_type": "markdown",
   "metadata": {},
   "source": [
    "## Exploring the residual errors of the model"
   ]
  },
  {
   "cell_type": "code",
   "execution_count": null,
   "metadata": {},
   "outputs": [],
   "source": [
    "y = dtf['profit']\n",
    "y_pred = ols_results.predict(dtf['rd_spend'])\n",
    "residuals = y_pred - y\n",
    "\n",
    "plt.scatter(y, residuals, color='g', alpha=.3)\n",
    "plt.hlines(0, min(y), max(y), color='black', alpha=.8)\n",
    "plt.xlabel('profit')\n",
    "plt.ylabel('residuals')\n",
    "plt.show()\n",
    "\n",
    "''' Top left corner, it's not outlier, as there are companies that invested zero in R&D '''"
   ]
  },
  {
   "cell_type": "markdown",
   "metadata": {},
   "source": [
    "## Adding categorical and other numerical variables to the model\n",
    "Need to make dummies first"
   ]
  },
  {
   "cell_type": "code",
   "execution_count": null,
   "metadata": {},
   "outputs": [],
   "source": [
    "dtf.head()"
   ]
  },
  {
   "cell_type": "code",
   "execution_count": null,
   "metadata": {},
   "outputs": [],
   "source": [
    "''' Append encoded (dummies) and numerical varibles '''\n",
    "tmp_dtf = get_dummies(dtf=dtf, categ_cols=['state'])\n",
    "transf_dtf = pd.concat([dtf, tmp_dtf], axis=1)\n",
    "transf_dtf.drop(columns=['state'], inplace=True, axis=1)\n",
    "transf_dtf.columns"
   ]
  },
  {
   "cell_type": "code",
   "execution_count": null,
   "metadata": {},
   "outputs": [],
   "source": [
    "''' Compute model '''\n",
    "X_cols =  ['rd_spend', 'admin_spend', 'marketing_spend', 'state_California', 'state_Florida']\n",
    "y_col = 'profit'\n",
    "formula_str = \"{} ~ {}\".format(y_col, ' + '.join(X_cols))\n",
    "lm1 = smf.ols(formula=formula_str, data=transf_dtf)\n",
    "results = lm1.fit()"
   ]
  },
  {
   "cell_type": "code",
   "execution_count": null,
   "metadata": {},
   "outputs": [],
   "source": [
    "print(results.summary())"
   ]
  },
  {
   "cell_type": "markdown",
   "metadata": {},
   "source": [
    "Most of the independent variables in this data set are not significant to the linear regression model. As seen before, only rd_spend has a clear linear relationship to profit.\n",
    "We may need to find better data for building and thinkering with such kind of regression."
   ]
  },
  {
   "cell_type": "code",
   "execution_count": null,
   "metadata": {},
   "outputs": [],
   "source": []
  }
 ],
 "metadata": {
  "kernelspec": {
   "display_name": "Python 3",
   "language": "python",
   "name": "python3"
  },
  "language_info": {
   "codemirror_mode": {
    "name": "ipython",
    "version": 3
   },
   "file_extension": ".py",
   "mimetype": "text/x-python",
   "name": "python",
   "nbconvert_exporter": "python",
   "pygments_lexer": "ipython3",
   "version": "3.7.1"
  }
 },
 "nbformat": 4,
 "nbformat_minor": 2
}
